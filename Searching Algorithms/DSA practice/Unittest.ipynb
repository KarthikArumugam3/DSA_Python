{
 "cells": [
  {
   "cell_type": "code",
   "execution_count": 17,
   "id": "44430bfb",
   "metadata": {},
   "outputs": [
    {
     "data": {
      "text/plain": [
       "3"
      ]
     },
     "execution_count": 17,
     "metadata": {},
     "output_type": "execute_result"
    }
   ],
   "source": [
    "#Index Equals Value :\n",
    "\n",
    "#Write a function that takes in a sorted array of distinct integers and return the first index in the array that is equal to the value at that index. In the others words, your function should return the minimum index where index == array[index]\n",
    "\n",
    "#If there is no such index, your function should return -1\n",
    "\n",
    "#Sample Input\n",
    "#Array = [ -5, -3 , 0 , 3 , 4, 5, 9 ]\n",
    "\n",
    "#Sample Output  \n",
    "#3\n",
    "\n",
    "array = [ -5, -3 , 0, 3 , 4, 5, 9  ]\n",
    "\n",
    "def index_equals_value(sorted_array):\n",
    "\n",
    "    for idx,val in enumerate(sorted_array):\n",
    "        if idx == val:\n",
    "            #print(val)\n",
    "            return val\n",
    "            #break\n",
    "\n",
    "        elif idx != val:\n",
    "            pass\n",
    "\n",
    "    else:\n",
    "        retrun -1\n",
    "\n",
    "index_equals_value(array)"
   ]
  },
  {
   "cell_type": "code",
   "execution_count": 18,
   "id": "a149ccc0",
   "metadata": {},
   "outputs": [],
   "source": [
    "res = index_equals_value(array)"
   ]
  },
  {
   "cell_type": "code",
   "execution_count": 19,
   "id": "38a17ee9",
   "metadata": {},
   "outputs": [],
   "source": [
    "import unittest"
   ]
  },
  {
   "cell_type": "code",
   "execution_count": 26,
   "id": "9871d3e6",
   "metadata": {},
   "outputs": [],
   "source": [
    "class testing(unittest.TestCase):\n",
    "    def test_func(self):\n",
    "        data = [ -5, -3 , 0, 3 , 4, 5, 9  ]\n",
    "        outcome = 3\n",
    "        results = index_equals_value(data)\n",
    "        self.assertEqual(results, outcome)"
   ]
  },
  {
   "cell_type": "code",
   "execution_count": 27,
   "id": "e1e940c5",
   "metadata": {},
   "outputs": [],
   "source": [
    "test1 = testing()"
   ]
  },
  {
   "cell_type": "code",
   "execution_count": 28,
   "id": "9f65ba94",
   "metadata": {},
   "outputs": [],
   "source": [
    "test1.test_func()"
   ]
  },
  {
   "cell_type": "code",
   "execution_count": null,
   "id": "0cb9034f",
   "metadata": {},
   "outputs": [],
   "source": []
  }
 ],
 "metadata": {
  "kernelspec": {
   "display_name": "Python 3",
   "language": "python",
   "name": "python3"
  },
  "language_info": {
   "codemirror_mode": {
    "name": "ipython",
    "version": 3
   },
   "file_extension": ".py",
   "mimetype": "text/x-python",
   "name": "python",
   "nbconvert_exporter": "python",
   "pygments_lexer": "ipython3",
   "version": "3.8.8"
  }
 },
 "nbformat": 4,
 "nbformat_minor": 5
}
