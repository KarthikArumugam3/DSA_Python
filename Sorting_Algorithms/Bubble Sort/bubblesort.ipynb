{
 "cells": [
  {
   "cell_type": "markdown",
   "id": "efa12e13",
   "metadata": {},
   "source": [
    "T.C. of Bubble Sort - O(n)^2- Worst Case\n",
    "\n",
    "Space complexity - O(1)\n",
    "\n",
    "No of comparisions needed in bubble sort would be - (n(n-1))/2"
   ]
  },
  {
   "cell_type": "code",
   "execution_count": 1,
   "id": "706815ed",
   "metadata": {},
   "outputs": [],
   "source": [
    "array = [4,3,6,1,9,0,2]"
   ]
  },
  {
   "cell_type": "code",
   "execution_count": 12,
   "id": "b6faa9d1",
   "metadata": {},
   "outputs": [],
   "source": [
    "array = [4,3,6,1,9,0,2]\n",
    "\n",
    "\n",
    "temp = 0\n",
    "for i in range(0,len(array)):\n",
    "    for j in range(i+1,len(array)):\n",
    "        if array[i] > array[j]:\n",
    "            temp = array[i]\n",
    "            array[i] = array[j]\n",
    "            array[j] = temp"
   ]
  },
  {
   "cell_type": "code",
   "execution_count": 13,
   "id": "81611706",
   "metadata": {},
   "outputs": [
    {
     "data": {
      "text/plain": [
       "[0, 1, 2, 3, 4, 6, 9]"
      ]
     },
     "execution_count": 13,
     "metadata": {},
     "output_type": "execute_result"
    }
   ],
   "source": [
    "array"
   ]
  },
  {
   "cell_type": "code",
   "execution_count": 16,
   "id": "56b015bb",
   "metadata": {},
   "outputs": [],
   "source": [
    "array1 = [3,44,38,5,47,15,36,26,27,2,46,4,19,50,48]\n",
    "\n",
    "temp = 0\n",
    "for i in range(0,len(array1)):\n",
    "    for j in range(i+1,len(array1)):\n",
    "        if array1[i] > array1[j]:\n",
    "            temp = array1[i]\n",
    "            array1[i] = array1[j]\n",
    "            array1[j] = temp"
   ]
  },
  {
   "cell_type": "code",
   "execution_count": 17,
   "id": "d0dd9687",
   "metadata": {},
   "outputs": [
    {
     "data": {
      "text/plain": [
       "[2, 3, 4, 5, 15, 19, 26, 27, 36, 38, 44, 46, 47, 48, 50]"
      ]
     },
     "execution_count": 17,
     "metadata": {},
     "output_type": "execute_result"
    }
   ],
   "source": [
    "array1"
   ]
  },
  {
   "cell_type": "code",
   "execution_count": 20,
   "id": "cf2db6c0",
   "metadata": {},
   "outputs": [],
   "source": [
    "def bubble_sort(array):\n",
    "    temp = 0\n",
    "    for i in range(0,len(array)):\n",
    "        for j in range(i+1, len(array)):\n",
    "            if array[i] > array[j]:\n",
    "                temp = array[i]\n",
    "                array[i] = array[j]\n",
    "                array[j] = temp\n",
    "    return array"
   ]
  },
  {
   "cell_type": "code",
   "execution_count": 21,
   "id": "67555245",
   "metadata": {},
   "outputs": [
    {
     "data": {
      "text/plain": [
       "[2, 3, 4, 5, 9, 15, 19, 26, 27, 36, 38, 44, 46, 47, 48, 50, 65, 77, 100]"
      ]
     },
     "execution_count": 21,
     "metadata": {},
     "output_type": "execute_result"
    }
   ],
   "source": [
    "data = [3,44,38,5,47,15,36,26,27,2,46,4,19,50,48,77,9,100,65]\n",
    "bubble_sort(data)"
   ]
  },
  {
   "cell_type": "code",
   "execution_count": 22,
   "id": "f02249ab",
   "metadata": {},
   "outputs": [
    {
     "name": "stdout",
     "output_type": "stream",
     "text": [
      "29.2 µs ± 830 ns per loop (mean ± std. dev. of 7 runs, 10000 loops each)\n"
     ]
    }
   ],
   "source": [
    "%timeit bubble_sort(data)"
   ]
  },
  {
   "cell_type": "code",
   "execution_count": null,
   "id": "3212073a",
   "metadata": {},
   "outputs": [],
   "source": []
  }
 ],
 "metadata": {
  "kernelspec": {
   "display_name": "Python 3",
   "language": "python",
   "name": "python3"
  },
  "language_info": {
   "codemirror_mode": {
    "name": "ipython",
    "version": 3
   },
   "file_extension": ".py",
   "mimetype": "text/x-python",
   "name": "python",
   "nbconvert_exporter": "python",
   "pygments_lexer": "ipython3",
   "version": "3.8.8"
  }
 },
 "nbformat": 4,
 "nbformat_minor": 5
}
