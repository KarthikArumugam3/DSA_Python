{
 "cells": [
  {
   "cell_type": "markdown",
   "id": "d52af80a",
   "metadata": {},
   "source": [
    "### Queue using modules\n",
    "\n",
    "#### Using collections module:-\n",
    "\n",
    "##### Method 1\n",
    "1. For enqueue:- deque.appendleft()\n",
    "2. For dequeue:- deque.pop()\n",
    "\n",
    "##### Method 2\n",
    "1. For enqueue:- deque.append()\n",
    "2. For dequeue:- deque.popleft()"
   ]
  },
  {
   "cell_type": "markdown",
   "id": "29b4dc10",
   "metadata": {},
   "source": [
    "### Method 1"
   ]
  },
  {
   "cell_type": "code",
   "execution_count": 1,
   "id": "7654c4a7",
   "metadata": {},
   "outputs": [],
   "source": [
    "import collections"
   ]
  },
  {
   "cell_type": "code",
   "execution_count": 2,
   "id": "417a43b4",
   "metadata": {},
   "outputs": [],
   "source": [
    "queue1 = collections.deque()"
   ]
  },
  {
   "cell_type": "code",
   "execution_count": 3,
   "id": "d17a87ed",
   "metadata": {},
   "outputs": [],
   "source": [
    "#enqueue\n",
    "queue1.appendleft(10)"
   ]
  },
  {
   "cell_type": "code",
   "execution_count": 4,
   "id": "4e75a52c",
   "metadata": {},
   "outputs": [],
   "source": [
    "#enqueue\n",
    "queue1.appendleft(20)"
   ]
  },
  {
   "cell_type": "code",
   "execution_count": 6,
   "id": "3a13226f",
   "metadata": {},
   "outputs": [
    {
     "data": {
      "text/plain": [
       "deque([20, 10])"
      ]
     },
     "execution_count": 6,
     "metadata": {},
     "output_type": "execute_result"
    }
   ],
   "source": [
    "queue1"
   ]
  },
  {
   "cell_type": "code",
   "execution_count": 7,
   "id": "54ccd1b0",
   "metadata": {},
   "outputs": [],
   "source": [
    "#enqueue\n",
    "queue1.appendleft(30)"
   ]
  },
  {
   "cell_type": "code",
   "execution_count": 8,
   "id": "aacd507c",
   "metadata": {},
   "outputs": [
    {
     "data": {
      "text/plain": [
       "deque([30, 20, 10])"
      ]
     },
     "execution_count": 8,
     "metadata": {},
     "output_type": "execute_result"
    }
   ],
   "source": [
    "queue1"
   ]
  },
  {
   "cell_type": "code",
   "execution_count": 9,
   "id": "4368d7c1",
   "metadata": {},
   "outputs": [
    {
     "data": {
      "text/plain": [
       "10"
      ]
     },
     "execution_count": 9,
     "metadata": {},
     "output_type": "execute_result"
    }
   ],
   "source": [
    "#dequeue\n",
    "queue1.pop()"
   ]
  },
  {
   "cell_type": "code",
   "execution_count": 10,
   "id": "1c62c462",
   "metadata": {},
   "outputs": [
    {
     "data": {
      "text/plain": [
       "deque([30, 20])"
      ]
     },
     "execution_count": 10,
     "metadata": {},
     "output_type": "execute_result"
    }
   ],
   "source": [
    "queue1"
   ]
  },
  {
   "cell_type": "code",
   "execution_count": 11,
   "id": "a3149aea",
   "metadata": {},
   "outputs": [
    {
     "data": {
      "text/plain": [
       "20"
      ]
     },
     "execution_count": 11,
     "metadata": {},
     "output_type": "execute_result"
    }
   ],
   "source": [
    "#dequeue\n",
    "queue1.pop()"
   ]
  },
  {
   "cell_type": "code",
   "execution_count": 12,
   "id": "f4fed453",
   "metadata": {},
   "outputs": [
    {
     "data": {
      "text/plain": [
       "30"
      ]
     },
     "execution_count": 12,
     "metadata": {},
     "output_type": "execute_result"
    }
   ],
   "source": [
    "#dequeue\n",
    "queue1.pop()"
   ]
  },
  {
   "cell_type": "code",
   "execution_count": 13,
   "id": "2d037acb",
   "metadata": {},
   "outputs": [
    {
     "ename": "IndexError",
     "evalue": "pop from an empty deque",
     "output_type": "error",
     "traceback": [
      "\u001b[1;31m---------------------------------------------------------------------------\u001b[0m",
      "\u001b[1;31mIndexError\u001b[0m                                Traceback (most recent call last)",
      "\u001b[1;32m<ipython-input-13-d4f819700904>\u001b[0m in \u001b[0;36m<module>\u001b[1;34m\u001b[0m\n\u001b[1;32m----> 1\u001b[1;33m \u001b[0mqueue1\u001b[0m\u001b[1;33m.\u001b[0m\u001b[0mpop\u001b[0m\u001b[1;33m(\u001b[0m\u001b[1;33m)\u001b[0m\u001b[1;33m\u001b[0m\u001b[1;33m\u001b[0m\u001b[0m\n\u001b[0m",
      "\u001b[1;31mIndexError\u001b[0m: pop from an empty deque"
     ]
    }
   ],
   "source": [
    "#dequeue\n",
    "queue1.pop()"
   ]
  },
  {
   "cell_type": "markdown",
   "id": "7e9e4f6a",
   "metadata": {},
   "source": [
    " ### Method 2"
   ]
  },
  {
   "cell_type": "code",
   "execution_count": 14,
   "id": "85dce995",
   "metadata": {},
   "outputs": [],
   "source": [
    "queue2 = collections.deque()"
   ]
  },
  {
   "cell_type": "code",
   "execution_count": 15,
   "id": "d8dc5f6b",
   "metadata": {},
   "outputs": [],
   "source": [
    "#enqueue\n",
    "queue2.append(10)"
   ]
  },
  {
   "cell_type": "code",
   "execution_count": 16,
   "id": "bc0788d2",
   "metadata": {},
   "outputs": [],
   "source": [
    "#enqueue\n",
    "queue2.append(20)"
   ]
  },
  {
   "cell_type": "code",
   "execution_count": 17,
   "id": "f5930743",
   "metadata": {},
   "outputs": [
    {
     "data": {
      "text/plain": [
       "deque([10, 20])"
      ]
     },
     "execution_count": 17,
     "metadata": {},
     "output_type": "execute_result"
    }
   ],
   "source": [
    "queue2"
   ]
  },
  {
   "cell_type": "code",
   "execution_count": 18,
   "id": "7cc95735",
   "metadata": {},
   "outputs": [],
   "source": [
    "#enqueue\n",
    "queue2.append(30)"
   ]
  },
  {
   "cell_type": "code",
   "execution_count": 19,
   "id": "c2b728bd",
   "metadata": {},
   "outputs": [],
   "source": [
    "#Dequeue"
   ]
  },
  {
   "cell_type": "code",
   "execution_count": 20,
   "id": "01e5cfae",
   "metadata": {},
   "outputs": [
    {
     "data": {
      "text/plain": [
       "10"
      ]
     },
     "execution_count": 20,
     "metadata": {},
     "output_type": "execute_result"
    }
   ],
   "source": [
    "#dequeue\n",
    "queue2.popleft()"
   ]
  },
  {
   "cell_type": "code",
   "execution_count": 22,
   "id": "2414245e",
   "metadata": {},
   "outputs": [
    {
     "data": {
      "text/plain": [
       "deque([20, 30])"
      ]
     },
     "execution_count": 22,
     "metadata": {},
     "output_type": "execute_result"
    }
   ],
   "source": [
    "queue2"
   ]
  },
  {
   "cell_type": "code",
   "execution_count": 23,
   "id": "fe09dc84",
   "metadata": {},
   "outputs": [
    {
     "data": {
      "text/plain": [
       "20"
      ]
     },
     "execution_count": 23,
     "metadata": {},
     "output_type": "execute_result"
    }
   ],
   "source": [
    "#dequeue\n",
    "queue2.popleft()"
   ]
  },
  {
   "cell_type": "code",
   "execution_count": 24,
   "id": "9a296f0d",
   "metadata": {},
   "outputs": [
    {
     "data": {
      "text/plain": [
       "30"
      ]
     },
     "execution_count": 24,
     "metadata": {},
     "output_type": "execute_result"
    }
   ],
   "source": [
    "#dequeue\n",
    "queue2.popleft()"
   ]
  },
  {
   "cell_type": "code",
   "execution_count": 26,
   "id": "c893f54b",
   "metadata": {},
   "outputs": [
    {
     "ename": "IndexError",
     "evalue": "pop from an empty deque",
     "output_type": "error",
     "traceback": [
      "\u001b[1;31m---------------------------------------------------------------------------\u001b[0m",
      "\u001b[1;31mIndexError\u001b[0m                                Traceback (most recent call last)",
      "\u001b[1;32m<ipython-input-26-467f43959442>\u001b[0m in \u001b[0;36m<module>\u001b[1;34m\u001b[0m\n\u001b[1;32m----> 1\u001b[1;33m \u001b[0mqueue2\u001b[0m\u001b[1;33m.\u001b[0m\u001b[0mpopleft\u001b[0m\u001b[1;33m(\u001b[0m\u001b[1;33m)\u001b[0m\u001b[1;33m\u001b[0m\u001b[1;33m\u001b[0m\u001b[0m\n\u001b[0m",
      "\u001b[1;31mIndexError\u001b[0m: pop from an empty deque"
     ]
    }
   ],
   "source": [
    "queue2.popleft()"
   ]
  },
  {
   "cell_type": "code",
   "execution_count": 28,
   "id": "1ded7697",
   "metadata": {},
   "outputs": [
    {
     "data": {
      "text/plain": [
       "deque([])"
      ]
     },
     "execution_count": 28,
     "metadata": {},
     "output_type": "execute_result"
    }
   ],
   "source": [
    "queue2."
   ]
  },
  {
   "cell_type": "code",
   "execution_count": 30,
   "id": "cc537303",
   "metadata": {},
   "outputs": [
    {
     "data": {
      "text/plain": [
       "True"
      ]
     },
     "execution_count": 30,
     "metadata": {},
     "output_type": "execute_result"
    }
   ],
   "source": [
    "not queue2"
   ]
  },
  {
   "cell_type": "code",
   "execution_count": null,
   "id": "4b1d8981",
   "metadata": {},
   "outputs": [],
   "source": []
  }
 ],
 "metadata": {
  "kernelspec": {
   "display_name": "Python 3",
   "language": "python",
   "name": "python3"
  },
  "language_info": {
   "codemirror_mode": {
    "name": "ipython",
    "version": 3
   },
   "file_extension": ".py",
   "mimetype": "text/x-python",
   "name": "python",
   "nbconvert_exporter": "python",
   "pygments_lexer": "ipython3",
   "version": "3.8.8"
  }
 },
 "nbformat": 4,
 "nbformat_minor": 5
}
