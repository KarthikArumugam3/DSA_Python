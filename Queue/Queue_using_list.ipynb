{
 "cells": [
  {
   "cell_type": "markdown",
   "id": "eb539a00",
   "metadata": {},
   "source": [
    "### Queue using list"
   ]
  },
  {
   "cell_type": "markdown",
   "id": "89ee9f68",
   "metadata": {},
   "source": [
    "### Operations in queue\n",
    "1. Enqueue:- Process of adding elements to queue\n",
    "2. Dequeue:- Process of removing elements from the queue"
   ]
  },
  {
   "cell_type": "markdown",
   "id": "985c4c99",
   "metadata": {},
   "source": [
    "#### Ways to do operations\n",
    "\n",
    "##### 1.Method1\n",
    "\n",
    "1. For enqueue:- We can use append() to push elements in queue\n",
    "2. For dequeue:- We can use pop(0) operation for removing elements from the first index of the queue."
   ]
  },
  {
   "cell_type": "code",
   "execution_count": 2,
   "id": "cbcf357e",
   "metadata": {},
   "outputs": [],
   "source": [
    "queue = list()"
   ]
  },
  {
   "cell_type": "code",
   "execution_count": 3,
   "id": "df62f0ec",
   "metadata": {},
   "outputs": [],
   "source": [
    "#enqueue\n",
    "queue.append(10)"
   ]
  },
  {
   "cell_type": "code",
   "execution_count": 4,
   "id": "bc294cc8",
   "metadata": {},
   "outputs": [],
   "source": [
    "#enqueue\n",
    "queue.append(20)"
   ]
  },
  {
   "cell_type": "code",
   "execution_count": 5,
   "id": "a9c24ba7",
   "metadata": {},
   "outputs": [],
   "source": [
    "#enqueue\n",
    "queue.append(30)"
   ]
  },
  {
   "cell_type": "code",
   "execution_count": 6,
   "id": "a5ed8fd7",
   "metadata": {},
   "outputs": [
    {
     "data": {
      "text/plain": [
       "[10, 20, 30]"
      ]
     },
     "execution_count": 6,
     "metadata": {},
     "output_type": "execute_result"
    }
   ],
   "source": [
    "queue"
   ]
  },
  {
   "cell_type": "code",
   "execution_count": 7,
   "id": "c77dd627",
   "metadata": {},
   "outputs": [
    {
     "data": {
      "text/plain": [
       "10"
      ]
     },
     "execution_count": 7,
     "metadata": {},
     "output_type": "execute_result"
    }
   ],
   "source": [
    "#dequeue\n",
    "queue.pop(0)"
   ]
  },
  {
   "cell_type": "code",
   "execution_count": 8,
   "id": "65bbdc9b",
   "metadata": {},
   "outputs": [
    {
     "data": {
      "text/plain": [
       "[20, 30]"
      ]
     },
     "execution_count": 8,
     "metadata": {},
     "output_type": "execute_result"
    }
   ],
   "source": [
    "queue"
   ]
  },
  {
   "cell_type": "code",
   "execution_count": 9,
   "id": "cbec9855",
   "metadata": {},
   "outputs": [
    {
     "data": {
      "text/plain": [
       "20"
      ]
     },
     "execution_count": 9,
     "metadata": {},
     "output_type": "execute_result"
    }
   ],
   "source": [
    "#dequeue\n",
    "queue.pop(0)"
   ]
  },
  {
   "cell_type": "code",
   "execution_count": 10,
   "id": "f3a3ad36",
   "metadata": {},
   "outputs": [
    {
     "data": {
      "text/plain": [
       "30"
      ]
     },
     "execution_count": 10,
     "metadata": {},
     "output_type": "execute_result"
    }
   ],
   "source": [
    "#dequeue\n",
    "queue.pop(0)"
   ]
  },
  {
   "cell_type": "code",
   "execution_count": 11,
   "id": "cea7a26e",
   "metadata": {},
   "outputs": [
    {
     "data": {
      "text/plain": [
       "[]"
      ]
     },
     "execution_count": 11,
     "metadata": {},
     "output_type": "execute_result"
    }
   ],
   "source": [
    "queue"
   ]
  },
  {
   "cell_type": "markdown",
   "id": "f294189f",
   "metadata": {},
   "source": [
    "##### 2.Method2\n",
    "\n",
    "1. For enqueue:- We can use insert(0,element) method to push elements into the queue in a forward manner.\n",
    "2. For dequeue:- We can use pop() to remove element from the last index which thereby is the first element pushed into the queue."
   ]
  },
  {
   "cell_type": "code",
   "execution_count": 27,
   "id": "9f498159",
   "metadata": {},
   "outputs": [],
   "source": [
    "queue2 = list()"
   ]
  },
  {
   "cell_type": "code",
   "execution_count": 28,
   "id": "9fe889ba",
   "metadata": {},
   "outputs": [],
   "source": [
    "# enqueue\n",
    "queue2.insert(0,10)"
   ]
  },
  {
   "cell_type": "code",
   "execution_count": 29,
   "id": "f7191da2",
   "metadata": {},
   "outputs": [
    {
     "data": {
      "text/plain": [
       "[10]"
      ]
     },
     "execution_count": 29,
     "metadata": {},
     "output_type": "execute_result"
    }
   ],
   "source": [
    "queue2"
   ]
  },
  {
   "cell_type": "code",
   "execution_count": 30,
   "id": "45d49958",
   "metadata": {},
   "outputs": [],
   "source": [
    "# enqueue\n",
    "queue2.insert(0,20)"
   ]
  },
  {
   "cell_type": "code",
   "execution_count": 31,
   "id": "4df9b0fc",
   "metadata": {},
   "outputs": [
    {
     "data": {
      "text/plain": [
       "[20, 10]"
      ]
     },
     "execution_count": 31,
     "metadata": {},
     "output_type": "execute_result"
    }
   ],
   "source": [
    "queue2"
   ]
  },
  {
   "cell_type": "code",
   "execution_count": 32,
   "id": "af5dae19",
   "metadata": {},
   "outputs": [],
   "source": [
    "# enqueue\n",
    "queue2.insert(0,30)"
   ]
  },
  {
   "cell_type": "code",
   "execution_count": 33,
   "id": "c32a966e",
   "metadata": {},
   "outputs": [
    {
     "data": {
      "text/plain": [
       "[30, 20, 10]"
      ]
     },
     "execution_count": 33,
     "metadata": {},
     "output_type": "execute_result"
    }
   ],
   "source": [
    "queue2"
   ]
  },
  {
   "cell_type": "code",
   "execution_count": 34,
   "id": "0da9281c",
   "metadata": {},
   "outputs": [],
   "source": [
    "#Enqueue"
   ]
  },
  {
   "cell_type": "code",
   "execution_count": 35,
   "id": "dbf37545",
   "metadata": {},
   "outputs": [
    {
     "data": {
      "text/plain": [
       "10"
      ]
     },
     "execution_count": 35,
     "metadata": {},
     "output_type": "execute_result"
    }
   ],
   "source": [
    "#enqueue\n",
    "queue2.pop()"
   ]
  },
  {
   "cell_type": "code",
   "execution_count": 36,
   "id": "f24722e0",
   "metadata": {},
   "outputs": [
    {
     "data": {
      "text/plain": [
       "[30, 20]"
      ]
     },
     "execution_count": 36,
     "metadata": {},
     "output_type": "execute_result"
    }
   ],
   "source": [
    "queue2"
   ]
  },
  {
   "cell_type": "code",
   "execution_count": 37,
   "id": "9a6680d2",
   "metadata": {},
   "outputs": [
    {
     "data": {
      "text/plain": [
       "20"
      ]
     },
     "execution_count": 37,
     "metadata": {},
     "output_type": "execute_result"
    }
   ],
   "source": [
    "#enqueue\n",
    "queue2.pop()"
   ]
  },
  {
   "cell_type": "code",
   "execution_count": 38,
   "id": "612ef103",
   "metadata": {},
   "outputs": [
    {
     "data": {
      "text/plain": [
       "[30]"
      ]
     },
     "execution_count": 38,
     "metadata": {},
     "output_type": "execute_result"
    }
   ],
   "source": [
    "queue2"
   ]
  },
  {
   "cell_type": "code",
   "execution_count": 39,
   "id": "a4977831",
   "metadata": {},
   "outputs": [
    {
     "data": {
      "text/plain": [
       "30"
      ]
     },
     "execution_count": 39,
     "metadata": {},
     "output_type": "execute_result"
    }
   ],
   "source": [
    "#enqueue\n",
    "queue2.pop()"
   ]
  },
  {
   "cell_type": "code",
   "execution_count": 40,
   "id": "0316a438",
   "metadata": {},
   "outputs": [
    {
     "data": {
      "text/plain": [
       "[]"
      ]
     },
     "execution_count": 40,
     "metadata": {},
     "output_type": "execute_result"
    }
   ],
   "source": [
    "queue2"
   ]
  },
  {
   "cell_type": "code",
   "execution_count": null,
   "id": "46e57cdc",
   "metadata": {},
   "outputs": [],
   "source": []
  }
 ],
 "metadata": {
  "kernelspec": {
   "display_name": "Python 3",
   "language": "python",
   "name": "python3"
  },
  "language_info": {
   "codemirror_mode": {
    "name": "ipython",
    "version": 3
   },
   "file_extension": ".py",
   "mimetype": "text/x-python",
   "name": "python",
   "nbconvert_exporter": "python",
   "pygments_lexer": "ipython3",
   "version": "3.8.8"
  }
 },
 "nbformat": 4,
 "nbformat_minor": 5
}
