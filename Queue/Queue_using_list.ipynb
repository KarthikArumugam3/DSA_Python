{
 "cells": [
  {
   "cell_type": "markdown",
   "id": "12cba9c1",
   "metadata": {},
   "source": [
    "### Queue using list"
   ]
  },
  {
   "cell_type": "markdown",
   "id": "27e7f32a",
   "metadata": {},
   "source": [
    "### Operations in queue\n",
    "1. Enqueue:- Process of adding elements to queue\n",
    "2. Dequeue:- Process of removing elements from the queue"
   ]
  },
  {
   "cell_type": "markdown",
   "id": "2bbfbc8e",
   "metadata": {},
   "source": [
    "#### Ways to do operations\n",
    "\n",
    "##### 1.Method1\n",
    "\n",
    "1. For enqueue:- We can use append() to push elements in queue\n",
    "2. For dequeue:- We can use pop(0) operation for removing elements from the first index of the queue."
   ]
  },
  {
   "cell_type": "code",
   "execution_count": 43,
   "id": "76996892",
   "metadata": {},
   "outputs": [],
   "source": [
    "queue = list()"
   ]
  },
  {
   "cell_type": "code",
   "execution_count": 44,
   "id": "c681c1ee",
   "metadata": {},
   "outputs": [],
   "source": [
    "#enqueue\n",
    "queue.append(10)"
   ]
  },
  {
   "cell_type": "code",
   "execution_count": 45,
   "id": "381de6a7",
   "metadata": {},
   "outputs": [],
   "source": [
    "#enqueue\n",
    "queue.append(20)"
   ]
  },
  {
   "cell_type": "code",
   "execution_count": 46,
   "id": "8c953680",
   "metadata": {},
   "outputs": [],
   "source": [
    "#enqueue\n",
    "queue.append(30)"
   ]
  },
  {
   "cell_type": "code",
   "execution_count": 47,
   "id": "d0fb3819",
   "metadata": {},
   "outputs": [
    {
     "data": {
      "text/plain": [
       "[10, 20, 30]"
      ]
     },
     "execution_count": 47,
     "metadata": {},
     "output_type": "execute_result"
    }
   ],
   "source": [
    "queue"
   ]
  },
  {
   "cell_type": "code",
   "execution_count": 48,
   "id": "9d768a16",
   "metadata": {},
   "outputs": [
    {
     "data": {
      "text/plain": [
       "(10, 30)"
      ]
     },
     "execution_count": 48,
     "metadata": {},
     "output_type": "execute_result"
    }
   ],
   "source": [
    "# First & Last element\n",
    "queue[0],queue[-1]"
   ]
  },
  {
   "cell_type": "code",
   "execution_count": 7,
   "id": "cf820902",
   "metadata": {},
   "outputs": [
    {
     "data": {
      "text/plain": [
       "10"
      ]
     },
     "execution_count": 7,
     "metadata": {},
     "output_type": "execute_result"
    }
   ],
   "source": [
    "#dequeue\n",
    "queue.pop(0)"
   ]
  },
  {
   "cell_type": "code",
   "execution_count": 8,
   "id": "b16773c2",
   "metadata": {},
   "outputs": [
    {
     "data": {
      "text/plain": [
       "[20, 30]"
      ]
     },
     "execution_count": 8,
     "metadata": {},
     "output_type": "execute_result"
    }
   ],
   "source": [
    "queue"
   ]
  },
  {
   "cell_type": "code",
   "execution_count": 9,
   "id": "6015541e",
   "metadata": {},
   "outputs": [
    {
     "data": {
      "text/plain": [
       "20"
      ]
     },
     "execution_count": 9,
     "metadata": {},
     "output_type": "execute_result"
    }
   ],
   "source": [
    "#dequeue\n",
    "queue.pop(0)"
   ]
  },
  {
   "cell_type": "code",
   "execution_count": 10,
   "id": "ccf95e59",
   "metadata": {},
   "outputs": [
    {
     "data": {
      "text/plain": [
       "30"
      ]
     },
     "execution_count": 10,
     "metadata": {},
     "output_type": "execute_result"
    }
   ],
   "source": [
    "#dequeue\n",
    "queue.pop(0)"
   ]
  },
  {
   "cell_type": "code",
   "execution_count": 11,
   "id": "e6f92f51",
   "metadata": {},
   "outputs": [
    {
     "data": {
      "text/plain": [
       "[]"
      ]
     },
     "execution_count": 11,
     "metadata": {},
     "output_type": "execute_result"
    }
   ],
   "source": [
    "queue"
   ]
  },
  {
   "cell_type": "markdown",
   "id": "fbd9a378",
   "metadata": {},
   "source": [
    "##### 2.Method2\n",
    "\n",
    "1. For enqueue:- We can use insert(0,element) method to push elements into the queue in a forward manner.\n",
    "2. For dequeue:- We can use pop() to remove element from the last index which thereby is the first element pushed into the queue."
   ]
  },
  {
   "cell_type": "code",
   "execution_count": 27,
   "id": "5921783e",
   "metadata": {},
   "outputs": [],
   "source": [
    "queue2 = list()"
   ]
  },
  {
   "cell_type": "code",
   "execution_count": 28,
   "id": "840ee4e8",
   "metadata": {},
   "outputs": [],
   "source": [
    "# enqueue\n",
    "queue2.insert(0,10)"
   ]
  },
  {
   "cell_type": "code",
   "execution_count": 29,
   "id": "42617af2",
   "metadata": {},
   "outputs": [
    {
     "data": {
      "text/plain": [
       "[10]"
      ]
     },
     "execution_count": 29,
     "metadata": {},
     "output_type": "execute_result"
    }
   ],
   "source": [
    "queue2"
   ]
  },
  {
   "cell_type": "code",
   "execution_count": 30,
   "id": "9b19579e",
   "metadata": {},
   "outputs": [],
   "source": [
    "# enqueue\n",
    "queue2.insert(0,20)"
   ]
  },
  {
   "cell_type": "code",
   "execution_count": 31,
   "id": "e3dd9805",
   "metadata": {},
   "outputs": [
    {
     "data": {
      "text/plain": [
       "[20, 10]"
      ]
     },
     "execution_count": 31,
     "metadata": {},
     "output_type": "execute_result"
    }
   ],
   "source": [
    "queue2"
   ]
  },
  {
   "cell_type": "code",
   "execution_count": 32,
   "id": "d8fd13b7",
   "metadata": {},
   "outputs": [],
   "source": [
    "# enqueue\n",
    "queue2.insert(0,30)"
   ]
  },
  {
   "cell_type": "code",
   "execution_count": 33,
   "id": "bd614dc2",
   "metadata": {},
   "outputs": [
    {
     "data": {
      "text/plain": [
       "[30, 20, 10]"
      ]
     },
     "execution_count": 33,
     "metadata": {},
     "output_type": "execute_result"
    }
   ],
   "source": [
    "queue2"
   ]
  },
  {
   "cell_type": "code",
   "execution_count": 34,
   "id": "20bf9abd",
   "metadata": {},
   "outputs": [],
   "source": [
    "#Enqueue"
   ]
  },
  {
   "cell_type": "code",
   "execution_count": 35,
   "id": "a7e922a3",
   "metadata": {},
   "outputs": [
    {
     "data": {
      "text/plain": [
       "10"
      ]
     },
     "execution_count": 35,
     "metadata": {},
     "output_type": "execute_result"
    }
   ],
   "source": [
    "#enqueue\n",
    "queue2.pop()"
   ]
  },
  {
   "cell_type": "code",
   "execution_count": 36,
   "id": "8da0eb4a",
   "metadata": {},
   "outputs": [
    {
     "data": {
      "text/plain": [
       "[30, 20]"
      ]
     },
     "execution_count": 36,
     "metadata": {},
     "output_type": "execute_result"
    }
   ],
   "source": [
    "queue2"
   ]
  },
  {
   "cell_type": "code",
   "execution_count": 37,
   "id": "7fe26062",
   "metadata": {},
   "outputs": [
    {
     "data": {
      "text/plain": [
       "20"
      ]
     },
     "execution_count": 37,
     "metadata": {},
     "output_type": "execute_result"
    }
   ],
   "source": [
    "#enqueue\n",
    "queue2.pop()"
   ]
  },
  {
   "cell_type": "code",
   "execution_count": 38,
   "id": "b398f35c",
   "metadata": {},
   "outputs": [
    {
     "data": {
      "text/plain": [
       "[30]"
      ]
     },
     "execution_count": 38,
     "metadata": {},
     "output_type": "execute_result"
    }
   ],
   "source": [
    "queue2"
   ]
  },
  {
   "cell_type": "code",
   "execution_count": 39,
   "id": "491907dc",
   "metadata": {},
   "outputs": [
    {
     "data": {
      "text/plain": [
       "30"
      ]
     },
     "execution_count": 39,
     "metadata": {},
     "output_type": "execute_result"
    }
   ],
   "source": [
    "#enqueue\n",
    "queue2.pop()"
   ]
  },
  {
   "cell_type": "code",
   "execution_count": 40,
   "id": "4192d96e",
   "metadata": {},
   "outputs": [
    {
     "data": {
      "text/plain": [
       "[]"
      ]
     },
     "execution_count": 40,
     "metadata": {},
     "output_type": "execute_result"
    }
   ],
   "source": [
    "queue2"
   ]
  },
  {
   "cell_type": "code",
   "execution_count": 42,
   "id": "1949eebb",
   "metadata": {},
   "outputs": [
    {
     "data": {
      "text/plain": [
       "True"
      ]
     },
     "execution_count": 42,
     "metadata": {},
     "output_type": "execute_result"
    }
   ],
   "source": [
    "not queue2"
   ]
  },
  {
   "cell_type": "markdown",
   "id": "f05a0fbc",
   "metadata": {},
   "source": [
    "### A simple program"
   ]
  },
  {
   "cell_type": "code",
   "execution_count": 50,
   "id": "1667971f",
   "metadata": {},
   "outputs": [],
   "source": [
    "def enqueue():\n",
    "    element = int(input(\"Enter the element to push:- \"))\n",
    "    queue.append(element)\n",
    "    print(element,\" is added to the queue\")\n",
    "    print(\"Current queue after enqueue operation:- \",queue)"
   ]
  },
  {
   "cell_type": "code",
   "execution_count": 51,
   "id": "9b564f16",
   "metadata": {},
   "outputs": [],
   "source": [
    "def dequeue():\n",
    "    if not queue:\n",
    "        print(\"Queue is empty\")\n",
    "    else:\n",
    "        element_removed = queue.pop(0)\n",
    "        print(\"Removed element from the queue:- \", element_removed)\n",
    "        print(\"Current queue after dequeue operation :- \", queue)"
   ]
  },
  {
   "cell_type": "code",
   "execution_count": 53,
   "id": "2aae1144",
   "metadata": {},
   "outputs": [],
   "source": [
    "def show_current_queue():\n",
    "    if not queue:\n",
    "        print(\"Queue is empty\")\n",
    "    else:\n",
    "        print(\"Current queue:- \", queue)"
   ]
  },
  {
   "cell_type": "code",
   "execution_count": 60,
   "id": "294b07a4",
   "metadata": {},
   "outputs": [],
   "source": [
    "def queue_using_list():\n",
    "    queue = []\n",
    "    while True:\n",
    "        choice = int(input(\"Enter your choice:- \\n1.Enqueue \\n2.Dequeue \\n3.Display queue \\n4.Quit \\n\"))\n",
    "        if choice == 1:\n",
    "            enqueue()\n",
    "        elif choice == 2:\n",
    "            dequeue()\n",
    "        elif choice == 3:\n",
    "            show_current_queue()\n",
    "        elif choice == 4:\n",
    "            break\n",
    "        else:\n",
    "            print(\"Enter the right choice\")"
   ]
  },
  {
   "cell_type": "code",
   "execution_count": 61,
   "id": "d0021139",
   "metadata": {},
   "outputs": [
    {
     "name": "stdout",
     "output_type": "stream",
     "text": [
      "Enter your choice:- \n",
      "1.Enqueue \n",
      "2.Dequeue \n",
      "3.Display queue \n",
      "4.Quit \n",
      "1\n",
      "Enter the element to push:- 10\n",
      "10  is added to the queue\n",
      "Current queue after enqueue operation:-  [10]\n",
      "Enter your choice:- \n",
      "1.Enqueue \n",
      "2.Dequeue \n",
      "3.Display queue \n",
      "4.Quit \n",
      "1\n",
      "Enter the element to push:- 20\n",
      "20  is added to the queue\n",
      "Current queue after enqueue operation:-  [10, 20]\n",
      "Enter your choice:- \n",
      "1.Enqueue \n",
      "2.Dequeue \n",
      "3.Display queue \n",
      "4.Quit \n",
      "3\n",
      "Current queue:-  [10, 20]\n",
      "Enter your choice:- \n",
      "1.Enqueue \n",
      "2.Dequeue \n",
      "3.Display queue \n",
      "4.Quit \n",
      "1\n",
      "Enter the element to push:- 30\n",
      "30  is added to the queue\n",
      "Current queue after enqueue operation:-  [10, 20, 30]\n",
      "Enter your choice:- \n",
      "1.Enqueue \n",
      "2.Dequeue \n",
      "3.Display queue \n",
      "4.Quit \n",
      "2\n",
      "Removed element from the queue:-  10\n",
      "Current queue after dequeue operation :-  [20, 30]\n",
      "Enter your choice:- \n",
      "1.Enqueue \n",
      "2.Dequeue \n",
      "3.Display queue \n",
      "4.Quit \n",
      "3\n",
      "Current queue:-  [20, 30]\n",
      "Enter your choice:- \n",
      "1.Enqueue \n",
      "2.Dequeue \n",
      "3.Display queue \n",
      "4.Quit \n",
      "2\n",
      "Removed element from the queue:-  20\n",
      "Current queue after dequeue operation :-  [30]\n",
      "Enter your choice:- \n",
      "1.Enqueue \n",
      "2.Dequeue \n",
      "3.Display queue \n",
      "4.Quit \n",
      "2\n",
      "Removed element from the queue:-  30\n",
      "Current queue after dequeue operation :-  []\n",
      "Enter your choice:- \n",
      "1.Enqueue \n",
      "2.Dequeue \n",
      "3.Display queue \n",
      "4.Quit \n",
      "2\n",
      "Queue is empty\n",
      "Enter your choice:- \n",
      "1.Enqueue \n",
      "2.Dequeue \n",
      "3.Display queue \n",
      "4.Quit \n",
      "3\n",
      "Queue is empty\n",
      "Enter your choice:- \n",
      "1.Enqueue \n",
      "2.Dequeue \n",
      "3.Display queue \n",
      "4.Quit \n",
      "4\n"
     ]
    }
   ],
   "source": [
    "queue_using_list()"
   ]
  },
  {
   "cell_type": "markdown",
   "id": "2fb22752",
   "metadata": {},
   "source": [
    "### Using Class"
   ]
  },
  {
   "cell_type": "code",
   "execution_count": 63,
   "id": "7655dcac",
   "metadata": {},
   "outputs": [],
   "source": [
    "class Queue:\n",
    "    \n",
    "    def __init__(self,queue,max_elements):\n",
    "        self.queue = queue\n",
    "        self.max_elements = max_elements\n",
    "        \n",
    "    def enqueue(self,element):\n",
    "        self.queue.append(element)\n",
    "        print(element,\" is added to the queue\")\n",
    "        print(\"Current queue after enqueue operation:- \",self.queue)\n",
    "    \n",
    "    def dequeue(self):\n",
    "        if not self.queue:\n",
    "            print(\"Queue is empty\")\n",
    "        else:\n",
    "            element_removed = self.queue.pop(0)\n",
    "            print(\"Removed element from the queue:- \", element_removed)\n",
    "            print(\"Current queue after dequeue operation :- \", self.queue)\n",
    "            \n",
    "    def display_current_queue(self):\n",
    "        if not self.queue:\n",
    "            print(\"Queue is empty\")\n",
    "        else:\n",
    "            print(\"Current queue:- \", self.queue)"
   ]
  },
  {
   "cell_type": "code",
   "execution_count": 64,
   "id": "17ea717d",
   "metadata": {},
   "outputs": [],
   "source": [
    "queue = Queue([],3)"
   ]
  },
  {
   "cell_type": "code",
   "execution_count": 65,
   "id": "0f7611e3",
   "metadata": {},
   "outputs": [
    {
     "name": "stdout",
     "output_type": "stream",
     "text": [
      "10  is added to the queue\n",
      "Current queue after enqueue operation:-  [10]\n"
     ]
    }
   ],
   "source": [
    "queue.enqueue(10)"
   ]
  },
  {
   "cell_type": "code",
   "execution_count": 66,
   "id": "b5dce4c8",
   "metadata": {},
   "outputs": [
    {
     "name": "stdout",
     "output_type": "stream",
     "text": [
      "20  is added to the queue\n",
      "Current queue after enqueue operation:-  [10, 20]\n"
     ]
    }
   ],
   "source": [
    "queue.enqueue(20)"
   ]
  },
  {
   "cell_type": "code",
   "execution_count": 67,
   "id": "1df82017",
   "metadata": {},
   "outputs": [
    {
     "name": "stdout",
     "output_type": "stream",
     "text": [
      "30  is added to the queue\n",
      "Current queue after enqueue operation:-  [10, 20, 30]\n"
     ]
    }
   ],
   "source": [
    "queue.enqueue(30)"
   ]
  },
  {
   "cell_type": "code",
   "execution_count": 68,
   "id": "8758fcc0",
   "metadata": {},
   "outputs": [
    {
     "name": "stdout",
     "output_type": "stream",
     "text": [
      "Current queue:-  [10, 20, 30]\n"
     ]
    }
   ],
   "source": [
    "queue.display_current_queue()"
   ]
  },
  {
   "cell_type": "code",
   "execution_count": 69,
   "id": "d1971fd7",
   "metadata": {},
   "outputs": [
    {
     "name": "stdout",
     "output_type": "stream",
     "text": [
      "Removed element from the queue:-  10\n",
      "Current queue after dequeue operation :-  [20, 30]\n"
     ]
    }
   ],
   "source": [
    "queue.dequeue()"
   ]
  },
  {
   "cell_type": "code",
   "execution_count": 70,
   "id": "c69a9b8f",
   "metadata": {},
   "outputs": [
    {
     "name": "stdout",
     "output_type": "stream",
     "text": [
      "Removed element from the queue:-  20\n",
      "Current queue after dequeue operation :-  [30]\n"
     ]
    }
   ],
   "source": [
    "queue.dequeue()"
   ]
  },
  {
   "cell_type": "code",
   "execution_count": 71,
   "id": "4d1a72b8",
   "metadata": {},
   "outputs": [
    {
     "name": "stdout",
     "output_type": "stream",
     "text": [
      "Current queue:-  [30]\n"
     ]
    }
   ],
   "source": [
    "queue.display_current_queue()"
   ]
  },
  {
   "cell_type": "code",
   "execution_count": 72,
   "id": "13b66446",
   "metadata": {},
   "outputs": [
    {
     "name": "stdout",
     "output_type": "stream",
     "text": [
      "Removed element from the queue:-  30\n",
      "Current queue after dequeue operation :-  []\n"
     ]
    }
   ],
   "source": [
    "queue.dequeue()"
   ]
  },
  {
   "cell_type": "code",
   "execution_count": 73,
   "id": "6737e853",
   "metadata": {},
   "outputs": [
    {
     "name": "stdout",
     "output_type": "stream",
     "text": [
      "Queue is empty\n"
     ]
    }
   ],
   "source": [
    "queue.display_current_queue()"
   ]
  },
  {
   "cell_type": "code",
   "execution_count": null,
   "id": "3a899a4b",
   "metadata": {},
   "outputs": [],
   "source": []
  }
 ],
 "metadata": {
  "kernelspec": {
   "display_name": "Python 3",
   "language": "python",
   "name": "python3"
  },
  "language_info": {
   "codemirror_mode": {
    "name": "ipython",
    "version": 3
   },
   "file_extension": ".py",
   "mimetype": "text/x-python",
   "name": "python",
   "nbconvert_exporter": "python",
   "pygments_lexer": "ipython3",
   "version": "3.8.8"
  }
 },
 "nbformat": 4,
 "nbformat_minor": 5
}
