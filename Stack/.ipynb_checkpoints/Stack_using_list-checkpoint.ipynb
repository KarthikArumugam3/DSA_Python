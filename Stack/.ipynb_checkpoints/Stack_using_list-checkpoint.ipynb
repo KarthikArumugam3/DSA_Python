{
 "cells": [
  {
   "cell_type": "markdown",
   "id": "4511eb95",
   "metadata": {},
   "source": [
    "## Implementing Stacks using list in python"
   ]
  },
  {
   "cell_type": "code",
   "execution_count": 21,
   "id": "4d023155",
   "metadata": {},
   "outputs": [],
   "source": [
    "stack = []"
   ]
  },
  {
   "cell_type": "code",
   "execution_count": 17,
   "id": "818efbf8",
   "metadata": {},
   "outputs": [],
   "source": [
    "def push(allowed_size_of_stack):\n",
    "    if len(stack) == allowed_size_of_stack:\n",
    "        print(\"Stack is full\")\n",
    "    else:\n",
    "        element = int(input(\"Enter the element to push into stack :: \"))\n",
    "        stack.append(element)\n",
    "        print(\"Current stack after push operation :: \", stack)"
   ]
  },
  {
   "cell_type": "code",
   "execution_count": 18,
   "id": "7a64e3b3",
   "metadata": {},
   "outputs": [],
   "source": [
    "def pop():\n",
    "    if len(stack) == 0:\n",
    "        print(\"Stack is empty\")\n",
    "    else:\n",
    "        stack.pop()\n",
    "        print(\"Current Stack after pop opeeration :-\",stack)"
   ]
  },
  {
   "cell_type": "code",
   "execution_count": 19,
   "id": "3943d7f6",
   "metadata": {},
   "outputs": [],
   "source": [
    "def show_stack():\n",
    "    print(\"Current stack is :: \", stack)"
   ]
  },
  {
   "cell_type": "code",
   "execution_count": 20,
   "id": "30f4807f",
   "metadata": {},
   "outputs": [
    {
     "name": "stdout",
     "output_type": "stream",
     "text": [
      "Enter the size the stack you want:- 5\n"
     ]
    }
   ],
   "source": [
    "allowed_size_of_stack = int(input(\"Enter the size the stack you want:- \"))"
   ]
  },
  {
   "cell_type": "code",
   "execution_count": 22,
   "id": "e1232758",
   "metadata": {},
   "outputs": [
    {
     "name": "stdout",
     "output_type": "stream",
     "text": [
      "Enter your choice :- \n",
      "1.Push \n",
      "2.Pop \n",
      "3.View stack \n",
      "4.Quit \n",
      "1\n",
      "Enter the element to push into stack :: 10\n",
      "Current stack after push ::  [10]\n",
      "Enter your choice :- \n",
      "1.Push \n",
      "2.Pop \n",
      "3.View stack \n",
      "4.Quit \n",
      "1\n",
      "Enter the element to push into stack :: 20\n",
      "Current stack after push ::  [10, 20]\n",
      "Enter your choice :- \n",
      "1.Push \n",
      "2.Pop \n",
      "3.View stack \n",
      "4.Quit \n",
      "1\n",
      "Enter the element to push into stack :: 30\n",
      "Current stack after push ::  [10, 20, 30]\n",
      "Enter your choice :- \n",
      "1.Push \n",
      "2.Pop \n",
      "3.View stack \n",
      "4.Quit \n",
      "1\n",
      "Enter the element to push into stack :: 40\n",
      "Current stack after push ::  [10, 20, 30, 40]\n",
      "Enter your choice :- \n",
      "1.Push \n",
      "2.Pop \n",
      "3.View stack \n",
      "4.Quit \n",
      "1\n",
      "Enter the element to push into stack :: 50\n",
      "Current stack after push ::  [10, 20, 30, 40, 50]\n",
      "Enter your choice :- \n",
      "1.Push \n",
      "2.Pop \n",
      "3.View stack \n",
      "4.Quit \n",
      "1\n",
      "Stack is full\n",
      "Enter your choice :- \n",
      "1.Push \n",
      "2.Pop \n",
      "3.View stack \n",
      "4.Quit \n",
      "2\n",
      "Current Stack after pop :- [10, 20, 30, 40]\n",
      "Enter your choice :- \n",
      "1.Push \n",
      "2.Pop \n",
      "3.View stack \n",
      "4.Quit \n",
      "3\n",
      "Current stack is ::  [10, 20, 30, 40]\n",
      "Enter your choice :- \n",
      "1.Push \n",
      "2.Pop \n",
      "3.View stack \n",
      "4.Quit \n",
      "2\n",
      "Current Stack after pop :- [10, 20, 30]\n",
      "Enter your choice :- \n",
      "1.Push \n",
      "2.Pop \n",
      "3.View stack \n",
      "4.Quit \n",
      "2\n",
      "Current Stack after pop :- [10, 20]\n",
      "Enter your choice :- \n",
      "1.Push \n",
      "2.Pop \n",
      "3.View stack \n",
      "4.Quit \n",
      "2\n",
      "Current Stack after pop :- [10]\n",
      "Enter your choice :- \n",
      "1.Push \n",
      "2.Pop \n",
      "3.View stack \n",
      "4.Quit \n",
      "3\n",
      "Current stack is ::  [10]\n",
      "Enter your choice :- \n",
      "1.Push \n",
      "2.Pop \n",
      "3.View stack \n",
      "4.Quit \n",
      "2\n",
      "Current Stack after pop :- []\n",
      "Enter your choice :- \n",
      "1.Push \n",
      "2.Pop \n",
      "3.View stack \n",
      "4.Quit \n",
      "2\n",
      "Stack is empty\n",
      "Enter your choice :- \n",
      "1.Push \n",
      "2.Pop \n",
      "3.View stack \n",
      "4.Quit \n",
      "2\n",
      "Stack is empty\n",
      "Enter your choice :- \n",
      "1.Push \n",
      "2.Pop \n",
      "3.View stack \n",
      "4.Quit \n",
      "3\n",
      "Current stack is ::  []\n",
      "Enter your choice :- \n",
      "1.Push \n",
      "2.Pop \n",
      "3.View stack \n",
      "4.Quit \n",
      "4\n"
     ]
    }
   ],
   "source": [
    "while True:\n",
    "    choice = int(input(\"Enter your choice :- \\n1.Push \\n2.Pop \\n3.View stack \\n4.Quit \\n\"))\n",
    "    \n",
    "    if choice == 1:\n",
    "        push(allowed_size_of_stack)\n",
    "    elif choice == 2:\n",
    "        pop()\n",
    "    elif choice == 3:\n",
    "        show_stack()\n",
    "    elif choice == 4:\n",
    "        break\n",
    "    else:\n",
    "        print(\"Enter the right choice\")\n",
    "    "
   ]
  },
  {
   "cell_type": "code",
   "execution_count": null,
   "id": "8304d2aa",
   "metadata": {},
   "outputs": [],
   "source": []
  },
  {
   "cell_type": "markdown",
   "id": "0c037a0c",
   "metadata": {},
   "source": [
    "### Using Class"
   ]
  },
  {
   "cell_type": "code",
   "execution_count": 53,
   "id": "1d190524",
   "metadata": {},
   "outputs": [],
   "source": [
    "class Stack:\n",
    "    \n",
    "    def __init__(self,allowed_size_of_stack, stack):\n",
    "        self.allowed_size_of_stack = allowed_size_of_stack\n",
    "        self.stack = stack\n",
    "        \n",
    "    def push(self):\n",
    "        if len(self.stack) == self.allowed_size_of_stack:\n",
    "            print(\"Stack is full\")\n",
    "        else:\n",
    "            element = int(input(\"Enter the element to push into stack :: \"))\n",
    "            self.stack.append(element)\n",
    "            print(\"Current stack after push operation :: \", self.stack)\n",
    "    def pop(self):\n",
    "        if len(self.stack) == 0:\n",
    "            print(\"Stack is empty\")\n",
    "        else:\n",
    "            self.stack.pop()\n",
    "            print(\"Current Stack after pop operation :-\",self.stack)\n",
    "            \n",
    "    def view_current_stack(self):\n",
    "        print(\"Current stack is :: \", self.stack)"
   ]
  },
  {
   "cell_type": "code",
   "execution_count": 54,
   "id": "8ef67f1a",
   "metadata": {},
   "outputs": [],
   "source": [
    "my_stack = Stack(5,[])"
   ]
  },
  {
   "cell_type": "code",
   "execution_count": 55,
   "id": "e074c934",
   "metadata": {},
   "outputs": [
    {
     "data": {
      "text/plain": [
       "5"
      ]
     },
     "execution_count": 55,
     "metadata": {},
     "output_type": "execute_result"
    }
   ],
   "source": [
    "my_stack.allowed_size_of_stack"
   ]
  },
  {
   "cell_type": "code",
   "execution_count": 56,
   "id": "98b2dbb4",
   "metadata": {},
   "outputs": [
    {
     "data": {
      "text/plain": [
       "[]"
      ]
     },
     "execution_count": 56,
     "metadata": {},
     "output_type": "execute_result"
    }
   ],
   "source": [
    "my_stack.stack"
   ]
  },
  {
   "cell_type": "code",
   "execution_count": 57,
   "id": "29ed0c24",
   "metadata": {},
   "outputs": [
    {
     "name": "stdout",
     "output_type": "stream",
     "text": [
      "Enter the element to push into stack :: 10\n",
      "Current stack after push operation ::  [10]\n"
     ]
    }
   ],
   "source": [
    "my_stack.push()"
   ]
  },
  {
   "cell_type": "code",
   "execution_count": 58,
   "id": "d1fc9d5c",
   "metadata": {},
   "outputs": [
    {
     "name": "stdout",
     "output_type": "stream",
     "text": [
      "Enter the element to push into stack :: 20\n",
      "Current stack after push operation ::  [10, 20]\n"
     ]
    }
   ],
   "source": [
    "my_stack.push()"
   ]
  },
  {
   "cell_type": "code",
   "execution_count": 59,
   "id": "8942eadf",
   "metadata": {},
   "outputs": [
    {
     "name": "stdout",
     "output_type": "stream",
     "text": [
      "Enter the element to push into stack :: 30\n",
      "Current stack after push operation ::  [10, 20, 30]\n"
     ]
    }
   ],
   "source": [
    "my_stack.push()"
   ]
  },
  {
   "cell_type": "code",
   "execution_count": 60,
   "id": "7f6451cb",
   "metadata": {},
   "outputs": [
    {
     "name": "stdout",
     "output_type": "stream",
     "text": [
      "Enter the element to push into stack :: 40\n",
      "Current stack after push operation ::  [10, 20, 30, 40]\n"
     ]
    }
   ],
   "source": [
    "my_stack.push()"
   ]
  },
  {
   "cell_type": "code",
   "execution_count": 61,
   "id": "89131e88",
   "metadata": {},
   "outputs": [
    {
     "name": "stdout",
     "output_type": "stream",
     "text": [
      "Enter the element to push into stack :: 50\n",
      "Current stack after push operation ::  [10, 20, 30, 40, 50]\n"
     ]
    }
   ],
   "source": [
    "my_stack.push()"
   ]
  },
  {
   "cell_type": "code",
   "execution_count": 62,
   "id": "f174b060",
   "metadata": {},
   "outputs": [
    {
     "name": "stdout",
     "output_type": "stream",
     "text": [
      "Stack is full\n"
     ]
    }
   ],
   "source": [
    "my_stack.push()"
   ]
  },
  {
   "cell_type": "code",
   "execution_count": 63,
   "id": "8e621bc1",
   "metadata": {},
   "outputs": [
    {
     "name": "stdout",
     "output_type": "stream",
     "text": [
      "Current stack is ::  [10, 20, 30, 40, 50]\n"
     ]
    }
   ],
   "source": [
    "my_stack.view_current_stack()"
   ]
  },
  {
   "cell_type": "code",
   "execution_count": 64,
   "id": "7accbe4d",
   "metadata": {},
   "outputs": [
    {
     "name": "stdout",
     "output_type": "stream",
     "text": [
      "Current Stack after pop operation :- [10, 20, 30, 40]\n"
     ]
    }
   ],
   "source": [
    "my_stack.pop()"
   ]
  },
  {
   "cell_type": "code",
   "execution_count": 65,
   "id": "36c654e3",
   "metadata": {},
   "outputs": [
    {
     "name": "stdout",
     "output_type": "stream",
     "text": [
      "Current stack is ::  [10, 20, 30, 40]\n"
     ]
    }
   ],
   "source": [
    "my_stack.view_current_stack()"
   ]
  },
  {
   "cell_type": "code",
   "execution_count": 66,
   "id": "e833ed73",
   "metadata": {},
   "outputs": [
    {
     "name": "stdout",
     "output_type": "stream",
     "text": [
      "Current Stack after pop operation :- [10, 20, 30]\n"
     ]
    }
   ],
   "source": [
    "my_stack.pop()"
   ]
  },
  {
   "cell_type": "code",
   "execution_count": 67,
   "id": "3b0b2a9b",
   "metadata": {},
   "outputs": [
    {
     "name": "stdout",
     "output_type": "stream",
     "text": [
      "Current Stack after pop operation :- [10, 20]\n"
     ]
    }
   ],
   "source": [
    "my_stack.pop()"
   ]
  },
  {
   "cell_type": "code",
   "execution_count": 68,
   "id": "04e0ad55",
   "metadata": {},
   "outputs": [
    {
     "name": "stdout",
     "output_type": "stream",
     "text": [
      "Current Stack after pop operation :- [10]\n"
     ]
    }
   ],
   "source": [
    "my_stack.pop()"
   ]
  },
  {
   "cell_type": "code",
   "execution_count": 69,
   "id": "1863fc0c",
   "metadata": {},
   "outputs": [
    {
     "name": "stdout",
     "output_type": "stream",
     "text": [
      "Current Stack after pop operation :- []\n"
     ]
    }
   ],
   "source": [
    "my_stack.pop()"
   ]
  },
  {
   "cell_type": "code",
   "execution_count": 70,
   "id": "a6445164",
   "metadata": {},
   "outputs": [
    {
     "name": "stdout",
     "output_type": "stream",
     "text": [
      "Stack is empty\n"
     ]
    }
   ],
   "source": [
    "my_stack.pop()"
   ]
  },
  {
   "cell_type": "code",
   "execution_count": null,
   "id": "34fad956",
   "metadata": {},
   "outputs": [],
   "source": []
  }
 ],
 "metadata": {
  "kernelspec": {
   "display_name": "Python 3",
   "language": "python",
   "name": "python3"
  },
  "language_info": {
   "codemirror_mode": {
    "name": "ipython",
    "version": 3
   },
   "file_extension": ".py",
   "mimetype": "text/x-python",
   "name": "python",
   "nbconvert_exporter": "python",
   "pygments_lexer": "ipython3",
   "version": "3.8.8"
  }
 },
 "nbformat": 4,
 "nbformat_minor": 5
}
